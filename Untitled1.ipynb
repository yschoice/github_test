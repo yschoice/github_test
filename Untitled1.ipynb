{
  "nbformat": 4,
  "nbformat_minor": 0,
  "metadata": {
    "colab": {
      "provenance": [],
      "authorship_tag": "ABX9TyOoX+ySpxd5yB9HylMBK0kl",
      "include_colab_link": true
    },
    "kernelspec": {
      "name": "python3",
      "display_name": "Python 3"
    },
    "language_info": {
      "name": "python"
    }
  },
  "cells": [
    {
      "cell_type": "markdown",
      "metadata": {
        "id": "view-in-github",
        "colab_type": "text"
      },
      "source": [
        "<a href=\"https://colab.research.google.com/github/yschoice/github_test/blob/main/Untitled1.ipynb\" target=\"_parent\"><img src=\"https://colab.research.google.com/assets/colab-badge.svg\" alt=\"Open In Colab\"/></a>"
      ]
    },
    {
      "cell_type": "code",
      "execution_count": null,
      "metadata": {
        "colab": {
          "base_uri": "https://localhost:8080/"
        },
        "id": "C9ngJsZAiNOD",
        "outputId": "ff8db429-e6e9-4484-e902-3a44268fbe8a"
      },
      "outputs": [
        {
          "output_type": "stream",
          "name": "stdout",
          "text": [
            "6\n",
            "1 2 3 3 2 2\n",
            "3\n"
          ]
        }
      ],
      "source": [
        "num = input()\n",
        "fear_list = list(map(int, input().split()))\n",
        "fear_list.sort()\n",
        "\n",
        "g_count, group_size= 0, 0\n",
        "for fear in fear_list :\n",
        "  group_size += 1\n",
        "  if fear <= group_size:\n",
        "    g_count += 1\n",
        "    group_size = 0\n",
        "\n",
        "print(g_count)"
      ]
    }
  ]
}